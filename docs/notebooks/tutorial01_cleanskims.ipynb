{
 "metadata": {
  "language_info": {
   "codemirror_mode": {
    "name": "ipython",
    "version": 3
   },
   "file_extension": ".py",
   "mimetype": "text/x-python",
   "name": "python",
   "nbconvert_exporter": "python",
   "pygments_lexer": "ipython3",
   "version": "3.8.3-final"
  },
  "orig_nbformat": 2,
  "kernelspec": {
   "name": "python_defaultSpec_1600819201348",
   "display_name": "Python 3.8.3 64-bit (conda)"
  }
 },
 "nbformat": 4,
 "nbformat_minor": 2,
 "cells": [
  {
   "source": [
    "# Clean skims\n",
    "Skim data used in the West Station Area study were provided as csv files. These are imported into emma's `Skim` class. However, in some cases, the raw skim data needed to be tidied up. For example, transit skims often include records for all possible origin-destination pairs, even though only a fraction of these pairs are actually connected by transit. Removing pairs where no transit connections are available speeds up the import process. \n",
    "\n",
    "Moreover, column naming is sometimes inconsistent across scenarios. The skim cleaning process also offers the opportunity to rename columns before importing, making the import process more reliable and predictable.\n",
    "\n",
    "To begin the cleaning process, import supporting modules. This initial cell shows how to connect to the emma package and the west station scripting module; it will be featured throughout tutorials. "
   ],
   "cell_type": "markdown",
   "metadata": {}
  },
  {
   "cell_type": "code",
   "execution_count": 1,
   "metadata": {
    "tags": []
   },
   "outputs": [],
   "source": [
    "import os\n",
    "import pathlib\n",
    "import sys\n",
    "\n",
    "# Tutorials will routinely add the `weststation` module from a relative path\n",
    "rel_path = pathlib.Path(os.getcwd()).parents[1]\n",
    "sys.path.append(str(rel_path))\n",
    "\n",
    "# Provide a path to emma:\n",
    "sys.path.append(r\"K:\\Tools\\RP\\emma\\scripts\")\n",
    "\n",
    "import weststation as wsa\n"
   ]
  },
  {
   "source": [
    "Next, point to a skim and preview its contents. This preview returns the first few rows of a file to review contents and column names."
   ],
   "cell_type": "markdown",
   "metadata": {}
  },
  {
   "cell_type": "code",
   "execution_count": 2,
   "metadata": {},
   "outputs": [
    {
     "output_type": "execute_result",
     "data": {
      "text/plain": "   from_zone_id  to_zone_id    pair_ID   Fare  Generalized_Cost  Total_Cost  \\\n0          1000           1     1000_1   3.37         33.564674        7.37   \n1          1000          10    1000_10   3.37         31.575066        5.37   \n2          1000         100   1000_100  11.02         37.254036       13.02   \n3          1000        1000  1000_1000   0.00          0.000000        0.00   \n4          1000        1001  1000_1001   1.02         10.841872        1.02   \n\n   Total_IVTT  Total_OVTT  \n0   84.828659   28.072369  \n1   79.578659   28.223333  \n2   61.356087   32.407063  \n3    0.000000    0.000000  \n4    2.340853   23.384254  ",
      "text/html": "<div>\n<style scoped>\n    .dataframe tbody tr th:only-of-type {\n        vertical-align: middle;\n    }\n\n    .dataframe tbody tr th {\n        vertical-align: top;\n    }\n\n    .dataframe thead th {\n        text-align: right;\n    }\n</style>\n<table border=\"1\" class=\"dataframe\">\n  <thead>\n    <tr style=\"text-align: right;\">\n      <th></th>\n      <th>from_zone_id</th>\n      <th>to_zone_id</th>\n      <th>pair_ID</th>\n      <th>Fare</th>\n      <th>Generalized_Cost</th>\n      <th>Total_Cost</th>\n      <th>Total_IVTT</th>\n      <th>Total_OVTT</th>\n    </tr>\n  </thead>\n  <tbody>\n    <tr>\n      <th>0</th>\n      <td>1000</td>\n      <td>1</td>\n      <td>1000_1</td>\n      <td>3.37</td>\n      <td>33.564674</td>\n      <td>7.37</td>\n      <td>84.828659</td>\n      <td>28.072369</td>\n    </tr>\n    <tr>\n      <th>1</th>\n      <td>1000</td>\n      <td>10</td>\n      <td>1000_10</td>\n      <td>3.37</td>\n      <td>31.575066</td>\n      <td>5.37</td>\n      <td>79.578659</td>\n      <td>28.223333</td>\n    </tr>\n    <tr>\n      <th>2</th>\n      <td>1000</td>\n      <td>100</td>\n      <td>1000_100</td>\n      <td>11.02</td>\n      <td>37.254036</td>\n      <td>13.02</td>\n      <td>61.356087</td>\n      <td>32.407063</td>\n    </tr>\n    <tr>\n      <th>3</th>\n      <td>1000</td>\n      <td>1000</td>\n      <td>1000_1000</td>\n      <td>0.00</td>\n      <td>0.000000</td>\n      <td>0.00</td>\n      <td>0.000000</td>\n      <td>0.000000</td>\n    </tr>\n    <tr>\n      <th>4</th>\n      <td>1000</td>\n      <td>1001</td>\n      <td>1000_1001</td>\n      <td>1.02</td>\n      <td>10.841872</td>\n      <td>1.02</td>\n      <td>2.340853</td>\n      <td>23.384254</td>\n    </tr>\n  </tbody>\n</table>\n</div>"
     },
     "metadata": {},
     "execution_count": 2
    }
   ],
   "source": [
    "# Change the path to point to tutorial data.\n",
    "os.chdir(os.path.join(rel_path, \"TutorialData\"))\n",
    "\n",
    "in_file = r\"K:\\Projects\\MAPC\\WestStationScenarios\\input\\skims\\LRTP_gc_parking_tt\\WAT_AM_full.csv\"\n",
    "wsa.wsafuncs.previewSkim(in_file)"
   ]
  },
  {
   "source": [
    "Specify columns to be renamed. Defining names consistently through the skim cleaning process simplifies the import step. During the West Station Study, inconsistencies in column names were observed for the \"Generalized Cost\", \"Total Cost\", and \"Access Drive Distance\" fields for transit skims. Renaming conventions were applied to set columns to \"GenCost\", \"TotCost\", and \"DriveDist\" respectively. Column renaming specs are provided in a dictionary. The dictionary only needs to include columns to be renamed (all others will remain as they are found) and can include column names that aren't found in the csv file (these are simply ignored). Thus, a comprehensive renaming dicionary can be built to cover the bases during the skim cleaning process."
   ],
   "cell_type": "markdown",
   "metadata": {}
  },
  {
   "cell_type": "code",
   "execution_count": 4,
   "metadata": {},
   "outputs": [],
   "source": [
    "# If the key is found as a column in the csv, it will be renamed \n",
    "#  to the value.\n",
    "rename = {\n",
    "    \"Generalized_Cost\": \"GenCost\",\n",
    "    \"GeneralizedCost\": \"GenCost\",\n",
    "    \"Total_Cost\": \"TotCost\",\n",
    "    \"TotalCost\": \"TotCost\",\n",
    "    \"Access_Drive_Distance\": \"DriveDist\",\n",
    "    \"Access_Drive_Dist\": \"DriveDist\",\n",
    "    \"AccessDriveDist\": \"DriveDist\"\n",
    "}"
   ]
  },
  {
   "source": [
    "Specify criteria for which rows to include in clean skim. Rows that have valid values for cost variables should be retained. In many cases, transit skims may include rows for OD pairs with no transit connections, reflected in suspiscious generalized cost estimates (0.0, 99999.0, e.g.). Filtering criteria are provided as tuples that include three components:\n",
    "\n",
    "1. Column name: The column whose values will be reviewed for filtering. The name\n",
    "after renaming should be given.\n",
    "2. Comparison method: The compartor to apply when filtering (equal to , less than, greater than or equal to, etc.)\n",
    "3. Value: The value to compare this column's value against.\n",
    "\n",
    "The comparison method is provided as a string corresponding to python's built-in comparison operators:\n",
    " - `__eq__()` = equals [==]\n",
    " - `__ne__()` = not equal to [!=]\n",
    " - `__lt__()` = less than [<]\n",
    " - `__le__()` = less than or equal to [<=]\n",
    " - `__gt__()` = greater than [>]\n",
    " - `__ge__()` = greater than or equal to [>=]\n"
   ],
   "cell_type": "markdown",
   "metadata": {}
  },
  {
   "cell_type": "code",
   "execution_count": 3,
   "metadata": {},
   "outputs": [],
   "source": [
    "# These criteria will retain rows where values in \"Generalized_Cost\"\n",
    "#  are less than 99999 and not equal to 0.\n",
    "criteria = [\n",
    "    (\"GenCost\", \"__lt__\", 99999),\n",
    "    (\"GenCost\", \"__ne__\", 0)\n",
    "]"
   ]
  },
  {
   "source": [
    "Finally, specify an output file and run the `cleanSkims` function."
   ],
   "cell_type": "markdown",
   "metadata": {}
  },
  {
   "cell_type": "code",
   "execution_count": 6,
   "metadata": {
    "tags": []
   },
   "outputs": [
    {
     "output_type": "stream",
     "name": "stdout",
     "text": "Complete. 8154973/32936121 rows retained (24.76%)\n"
    }
   ],
   "source": [
    "out_file = r\"K:\\Projects\\MAPC\\WestStationScenarios\\input\\skims\\LRTP_gc_parking_tt\\WAT_AM.csv\"\n",
    "wsa.wsafuncs.cleanSkims(in_file, out_file, criteria, rename=rename)"
   ]
  }
 ]
}